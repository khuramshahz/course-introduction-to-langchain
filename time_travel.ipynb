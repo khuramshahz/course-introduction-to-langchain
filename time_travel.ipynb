{
  "nbformat": 4,
  "nbformat_minor": 0,
  "metadata": {
    "colab": {
      "provenance": []
    },
    "kernelspec": {
      "name": "python3",
      "display_name": "Python 3"
    },
    "language_info": {
      "name": "python"
    }
  },
  "cells": [
    {
      "cell_type": "code",
      "execution_count": null,
      "metadata": {
        "id": "0BgCZOiOLsyZ"
      },
      "outputs": [],
      "source": [
        "%pip install --quiet -U langgraph langchain_groq langgraph_sdk langgraph-prebuilt"
      ]
    },
    {
      "cell_type": "code",
      "source": [
        "import os\n",
        "import sqlite3\n",
        "from google.colab import userdata\n",
        "\n",
        "api_key = userdata.get(\"groq_api_key\")\n",
        "os.environ[\"GROQ_API_KEY\"] = api_key\n",
        "os.environ[\"LANGCHAIN_TRACKING_V2\"]=\"true\"\n",
        "os.environ[\"LANGCHAIN_PROJECT\"]=\"langchain-academy\""
      ],
      "metadata": {
        "id": "O3_Q3-WgMCrm"
      },
      "execution_count": null,
      "outputs": []
    },
    {
      "cell_type": "code",
      "source": [
        "from langchain_groq import ChatGroq\n",
        "llm = ChatGroq(\n",
        "    temperature=0.7,\n",
        "    model_name=\"llama3-8b-8192\",\n",
        "    verbose=True\n",
        ")"
      ],
      "metadata": {
        "id": "mCW0vSnvMGxG"
      },
      "execution_count": null,
      "outputs": []
    },
    {
      "cell_type": "code",
      "source": [
        "def multiply(a:int,b:int)->int:\n",
        "  \"\"\"multiply a and b\"\"\"\n",
        "  return a*b\n",
        "\n",
        "def add(a:int,b:int)->int:\n",
        "  \"\"\"add a and b\"\"\"\n",
        "  return a+b\n",
        "\n",
        "def divide(a:int,b:int)->int:\n",
        "  \"\"\"divide a and b\"\"\"\n",
        "  return a/b\n",
        "\n",
        "tools=[multiply,divide,add]\n",
        "llm_with_tools=llm.bind_tools(tools)"
      ],
      "metadata": {
        "id": "fZlV29GqMMPp"
      },
      "execution_count": null,
      "outputs": []
    },
    {
      "cell_type": "code",
      "source": [
        "from IPython.display import Image, display\n",
        "\n",
        "from langgraph.checkpoint.memory import MemorySaver\n",
        "from langgraph.graph import MessagesState\n",
        "from langgraph.graph import START, END, StateGraph\n",
        "from langgraph.prebuilt import tools_condition, ToolNode\n",
        "\n",
        "from langchain_core.messages import AIMessage, HumanMessage, SystemMessage\n",
        "\n",
        "sys_msg = SystemMessage(content=\"You are a helpful assistant tasked with performing arithmetic on a set of inputs.\")\n",
        "def assistant(state: MessagesState):\n",
        "   return {\"messages\": [llm_with_tools.invoke([sys_msg] + state[\"messages\"])]}\n",
        "\n",
        "builder = StateGraph(MessagesState)\n",
        "builder.add_node(\"assistant\", assistant)\n",
        "builder.add_node(\"tools\", ToolNode(tools))\n",
        "\n",
        "builder.add_edge(START, \"assistant\")\n",
        "builder.add_conditional_edges(\n",
        "    \"assistant\",\n",
        "    # If the latest message (result) from assistant is a tool call -> tools_condition routes to tools\n",
        "    # If the latest message (result) from assistant is a not a tool call -> tools_condition routes to END\n",
        "    tools_condition,\n",
        ")\n",
        "builder.add_edge(\"tools\", \"assistant\")\n",
        "\n",
        "memory = MemorySaver()\n",
        "graph = builder.compile(checkpointer=MemorySaver())\n",
        "display(Image(graph.get_graph(xray=True).draw_mermaid_png()))"
      ],
      "metadata": {
        "colab": {
          "base_uri": "https://localhost:8080/",
          "height": 266
        },
        "id": "ywwa1yfqM9II",
        "outputId": "22bb1162-0668-4a56-b816-5001f6b0517c"
      },
      "execution_count": null,
      "outputs": [
        {
          "output_type": "display_data",
          "data": {
            "image/png": "[encoded data removed]",
            "text/plain": [
              "<IPython.core.display.Image object>"
            ]
          },
          "metadata": {}
        }
      ]
    },
    {
      "cell_type": "code",
      "source": [
        "initial_input = {\"messages\": HumanMessage(content=\"Multiply 2 and 3\")}\n",
        "thread = {\"configurable\": {\"thread_id\": \"1\"}}\n",
        "for event in graph.stream(initial_input, thread, stream_mode=\"values\"):\n",
        "    event['messages'][-1].pretty_print()"
      ],
      "metadata": {
        "colab": {
          "base_uri": "https://localhost:8080/"
        },
        "id": "MMVWIl1yNZry",
        "outputId": "716ba777-55a8-46ac-f742-55cc73538350"
      },
      "execution_count": null,
      "outputs": [
        {
          "output_type": "stream",
          "name": "stdout",
          "text": [
            "================================\u001b[1m Human Message \u001b[0m=================================\n",
            "\n",
            "Multiply 2 and 3\n",
            "==================================\u001b[1m Ai Message \u001b[0m==================================\n",
            "Tool Calls:\n",
            "  multiply (dtg6dhsae)\n",
            " Call ID: dtg6dhsae\n",
            "  Args:\n",
            "    a: 2\n",
            "    b: 3\n",
            "=================================\u001b[1m Tool Message \u001b[0m=================================\n",
            "Name: multiply\n",
            "\n",
            "6\n",
            "==================================\u001b[1m Ai Message \u001b[0m==================================\n",
            "\n",
            "6\n"
          ]
        }
      ]
    },
    {
      "cell_type": "code",
      "source": [
        "graph.get_state({\"configurable\":{\"thread_id\":\"1\"}})"
      ],
      "metadata": {
        "colab": {
          "base_uri": "https://localhost:8080/"
        },
        "id": "IVxfH-geOM1j",
        "outputId": "0ef94ee5-3135-40d5-c7bd-4034411c4178"
      },
      "execution_count": null,
      "outputs": [
        {
          "output_type": "execute_result",
          "data": {
            "text/plain": [
              "StateSnapshot(values={'messages': [HumanMessage(content='Multiply 2 and 3', additional_kwargs={}, response_metadata={}, id='e3669d5b-2548-42d6-b160-462bd5a910d1'), AIMessage(content='', additional_kwargs={'tool_calls': [{'id': 'dtg6dhsae', 'function': {'arguments': '{\"a\":2,\"b\":3}', 'name': 'multiply'}, 'type': 'function'}]}, response_metadata={'token_usage': {'completion_tokens': 73, 'prompt_tokens': 1097, 'total_tokens': 1170, 'completion_time': 0.067901188, 'prompt_time': 0.122769534, 'queue_time': 0.056620802, 'total_time': 0.190670722}, 'model_name': 'llama3-8b-8192', 'system_fingerprint': 'fp_5b339000ab', 'service_tier': 'on_demand', 'finish_reason': 'tool_calls', 'logprobs': None}, id='run--d80b0f22-f710-428d-abc6-213729953558-0', tool_calls=[{'name': 'multiply', 'args': {'a': 2, 'b': 3}, 'id': 'dtg6dhsae', 'type': 'tool_call'}], usage_metadata={'input_tokens': 1097, 'output_tokens': 73, 'total_tokens': 1170}), ToolMessage(content='6', name='multiply', id='bc9a1b16-b511-4ef2-a5c9-6dd81f779b40', tool_call_id='dtg6dhsae'), AIMessage(content='6', additional_kwargs={}, response_metadata={'token_usage': {'completion_tokens': 2, 'prompt_tokens': 1168, 'total_tokens': 1170, 'completion_time': 0.002162874, 'prompt_time': 0.128991633, 'queue_time': 0.056362092, 'total_time': 0.131154507}, 'model_name': 'llama3-8b-8192', 'system_fingerprint': 'fp_0fb809dba3', 'service_tier': 'on_demand', 'finish_reason': 'stop', 'logprobs': None}, id='run--ea0c2ccc-6f34-4066-b04a-55114d843150-0', usage_metadata={'input_tokens': 1168, 'output_tokens': 2, 'total_tokens': 1170})]}, next=(), config={'configurable': {'thread_id': '1', 'checkpoint_ns': '', 'checkpoint_id': '1f0798cd-982a-6387-8003-7d9e7b59081c'}}, metadata={'source': 'loop', 'step': 3, 'parents': {}}, created_at='2025-08-15T04:03:50.008477+00:00', parent_config={'configurable': {'thread_id': '1', 'checkpoint_ns': '', 'checkpoint_id': '1f0798cd-95b7-6422-8002-a390ef2bfb1d'}}, tasks=(), interrupts=())"
            ]
          },
          "metadata": {},
          "execution_count": 110
        }
      ]
    },
    {
      "cell_type": "code",
      "source": [
        "all_states=[s for s in graph.get_state_history(thread)]"
      ],
      "metadata": {
        "id": "2Na0Tad0O5r3"
      },
      "execution_count": null,
      "outputs": []
    },
    {
      "cell_type": "code",
      "source": [
        "len(all_states)"
      ],
      "metadata": {
        "colab": {
          "base_uri": "https://localhost:8080/"
        },
        "id": "VMST5tFZPgX-",
        "outputId": "d5b2e3ad-fc49-4438-aec7-d8f6d17f9a12"
      },
      "execution_count": null,
      "outputs": [
        {
          "output_type": "execute_result",
          "data": {
            "text/plain": [
              "5"
            ]
          },
          "metadata": {},
          "execution_count": 112
        }
      ]
    },
    {
      "cell_type": "code",
      "source": [
        "all_states[4]"
      ],
      "metadata": {
        "colab": {
          "base_uri": "https://localhost:8080/"
        },
        "id": "8aaxYdTBPlGZ",
        "outputId": "26d0c22b-4e0a-4ef6-b1bf-2eca3ec7b07a"
      },
      "execution_count": null,
      "outputs": [
        {
          "output_type": "execute_result",
          "data": {
            "text/plain": [
              "StateSnapshot(values={'messages': []}, next=('__start__',), config={'configurable': {'thread_id': '1', 'checkpoint_ns': '', 'checkpoint_id': '1f0798cd-922d-6299-bfff-1900c9537b23'}}, metadata={'source': 'input', 'step': -1, 'parents': {}}, created_at='2025-08-15T04:03:49.380557+00:00', parent_config=None, tasks=(PregelTask(id='7e65e89e-ab85-4111-f578-ff90b0e3f8a8', name='__start__', path=('__pregel_pull', '__start__'), error=None, interrupts=(), state=None, result={'messages': HumanMessage(content='Multiply 2 and 3', additional_kwargs={}, response_metadata={}, id='e3669d5b-2548-42d6-b160-462bd5a910d1')}),), interrupts=())"
            ]
          },
          "metadata": {},
          "execution_count": 113
        }
      ]
    },
    {
      "cell_type": "code",
      "source": [
        "import pprint\n",
        "\n",
        "for i, state in enumerate(all_states, start=1):\n",
        "    print(f\"\\n--- State #{i} ---\")\n",
        "    pprint.pprint(state)"
      ],
      "metadata": {
        "colab": {
          "base_uri": "https://localhost:8080/"
        },
        "id": "EOCSK69uQaF8",
        "outputId": "f2eb339f-e633-4c37-f983-a3cde8261146"
      },
      "execution_count": null,
      "outputs": [
        {
          "output_type": "stream",
          "name": "stdout",
          "text": [
            "\n",
            "--- State #1 ---\n",
            "StateSnapshot(values={'messages': [HumanMessage(content='Multiply 2 and 3', additional_kwargs={}, response_metadata={}, id='e3669d5b-2548-42d6-b160-462bd5a910d1'), AIMessage(content='', additional_kwargs={'tool_calls': [{'id': 'dtg6dhsae', 'function': {'arguments': '{\"a\":2,\"b\":3}', 'name': 'multiply'}, 'type': 'function'}]}, response_metadata={'token_usage': {'completion_tokens': 73, 'prompt_tokens': 1097, 'total_tokens': 1170, 'completion_time': 0.067901188, 'prompt_time': 0.122769534, 'queue_time': 0.056620802, 'total_time': 0.190670722}, 'model_name': 'llama3-8b-8192', 'system_fingerprint': 'fp_5b339000ab', 'service_tier': 'on_demand', 'finish_reason': 'tool_calls', 'logprobs': None}, id='run--d80b0f22-f710-428d-abc6-213729953558-0', tool_calls=[{'name': 'multiply', 'args': {'a': 2, 'b': 3}, 'id': 'dtg6dhsae', 'type': 'tool_call'}], usage_metadata={'input_tokens': 1097, 'output_tokens': 73, 'total_tokens': 1170}), ToolMessage(content='6', name='multiply', id='bc9a1b16-b511-4ef2-a5c9-6dd81f779b40', tool_call_id='dtg6dhsae'), AIMessage(content='6', additional_kwargs={}, response_metadata={'token_usage': {'completion_tokens': 2, 'prompt_tokens': 1168, 'total_tokens': 1170, 'completion_time': 0.002162874, 'prompt_time': 0.128991633, 'queue_time': 0.056362092, 'total_time': 0.131154507}, 'model_name': 'llama3-8b-8192', 'system_fingerprint': 'fp_0fb809dba3', 'service_tier': 'on_demand', 'finish_reason': 'stop', 'logprobs': None}, id='run--ea0c2ccc-6f34-4066-b04a-55114d843150-0', usage_metadata={'input_tokens': 1168, 'output_tokens': 2, 'total_tokens': 1170})]}, next=(), config={'configurable': {'thread_id': '1', 'checkpoint_ns': '', 'checkpoint_id': '1f0798cd-982a-6387-8003-7d9e7b59081c'}}, metadata={'source': 'loop', 'step': 3, 'parents': {}}, created_at='2025-08-15T04:03:50.008477+00:00', parent_config={'configurable': {'thread_id': '1', 'checkpoint_ns': '', 'checkpoint_id': '1f0798cd-95b7-6422-8002-a390ef2bfb1d'}}, tasks=(), interrupts=())\n",
            "\n",
            "--- State #2 ---\n",
            "StateSnapshot(values={'messages': [HumanMessage(content='Multiply 2 and 3', additional_kwargs={}, response_metadata={}, id='e3669d5b-2548-42d6-b160-462bd5a910d1'), AIMessage(content='', additional_kwargs={'tool_calls': [{'id': 'dtg6dhsae', 'function': {'arguments': '{\"a\":2,\"b\":3}', 'name': 'multiply'}, 'type': 'function'}]}, response_metadata={'token_usage': {'completion_tokens': 73, 'prompt_tokens': 1097, 'total_tokens': 1170, 'completion_time': 0.067901188, 'prompt_time': 0.122769534, 'queue_time': 0.056620802, 'total_time': 0.190670722}, 'model_name': 'llama3-8b-8192', 'system_fingerprint': 'fp_5b339000ab', 'service_tier': 'on_demand', 'finish_reason': 'tool_calls', 'logprobs': None}, id='run--d80b0f22-f710-428d-abc6-213729953558-0', tool_calls=[{'name': 'multiply', 'args': {'a': 2, 'b': 3}, 'id': 'dtg6dhsae', 'type': 'tool_call'}], usage_metadata={'input_tokens': 1097, 'output_tokens': 73, 'total_tokens': 1170}), ToolMessage(content='6', name='multiply', id='bc9a1b16-b511-4ef2-a5c9-6dd81f779b40', tool_call_id='dtg6dhsae')]}, next=('assistant',), config={'configurable': {'thread_id': '1', 'checkpoint_ns': '', 'checkpoint_id': '1f0798cd-95b7-6422-8002-a390ef2bfb1d'}}, metadata={'source': 'loop', 'step': 2, 'parents': {}}, created_at='2025-08-15T04:03:49.751690+00:00', parent_config={'configurable': {'thread_id': '1', 'checkpoint_ns': '', 'checkpoint_id': '1f0798cd-95af-6eaf-8001-d1a715bdbdf7'}}, tasks=(PregelTask(id='d527eacb-14b4-a57a-48ff-06defe9d5dcc', name='assistant', path=('__pregel_pull', 'assistant'), error=None, interrupts=(), state=None, result={'messages': [AIMessage(content='6', additional_kwargs={}, response_metadata={'token_usage': {'completion_tokens': 2, 'prompt_tokens': 1168, 'total_tokens': 1170, 'completion_time': 0.002162874, 'prompt_time': 0.128991633, 'queue_time': 0.056362092, 'total_time': 0.131154507}, 'model_name': 'llama3-8b-8192', 'system_fingerprint': 'fp_0fb809dba3', 'service_tier': 'on_demand', 'finish_reason': 'stop', 'logprobs': None}, id='run--ea0c2ccc-6f34-4066-b04a-55114d843150-0', usage_metadata={'input_tokens': 1168, 'output_tokens': 2, 'total_tokens': 1170})]}),), interrupts=())\n",
            "\n",
            "--- State #3 ---\n",
            "StateSnapshot(values={'messages': [HumanMessage(content='Multiply 2 and 3', additional_kwargs={}, response_metadata={}, id='e3669d5b-2548-42d6-b160-462bd5a910d1'), AIMessage(content='', additional_kwargs={'tool_calls': [{'id': 'dtg6dhsae', 'function': {'arguments': '{\"a\":2,\"b\":3}', 'name': 'multiply'}, 'type': 'function'}]}, response_metadata={'token_usage': {'completion_tokens': 73, 'prompt_tokens': 1097, 'total_tokens': 1170, 'completion_time': 0.067901188, 'prompt_time': 0.122769534, 'queue_time': 0.056620802, 'total_time': 0.190670722}, 'model_name': 'llama3-8b-8192', 'system_fingerprint': 'fp_5b339000ab', 'service_tier': 'on_demand', 'finish_reason': 'tool_calls', 'logprobs': None}, id='run--d80b0f22-f710-428d-abc6-213729953558-0', tool_calls=[{'name': 'multiply', 'args': {'a': 2, 'b': 3}, 'id': 'dtg6dhsae', 'type': 'tool_call'}], usage_metadata={'input_tokens': 1097, 'output_tokens': 73, 'total_tokens': 1170})]}, next=('tools',), config={'configurable': {'thread_id': '1', 'checkpoint_ns': '', 'checkpoint_id': '1f0798cd-95af-6eaf-8001-d1a715bdbdf7'}}, metadata={'source': 'loop', 'step': 1, 'parents': {}}, created_at='2025-08-15T04:03:49.748664+00:00', parent_config={'configurable': {'thread_id': '1', 'checkpoint_ns': '', 'checkpoint_id': '1f0798cd-922f-61e9-8000-324a6b8d1863'}}, tasks=(PregelTask(id='7e139bff-500f-7504-a374-f4378b86ba87', name='tools', path=('__pregel_pull', 'tools'), error=None, interrupts=(), state=None, result={'messages': [ToolMessage(content='6', name='multiply', id='bc9a1b16-b511-4ef2-a5c9-6dd81f779b40', tool_call_id='dtg6dhsae')]}),), interrupts=())\n",
            "\n",
            "--- State #4 ---\n",
            "StateSnapshot(values={'messages': [HumanMessage(content='Multiply 2 and 3', additional_kwargs={}, response_metadata={}, id='e3669d5b-2548-42d6-b160-462bd5a910d1')]}, next=('assistant',), config={'configurable': {'thread_id': '1', 'checkpoint_ns': '', 'checkpoint_id': '1f0798cd-922f-61e9-8000-324a6b8d1863'}}, metadata={'source': 'loop', 'step': 0, 'parents': {}}, created_at='2025-08-15T04:03:49.381358+00:00', parent_config={'configurable': {'thread_id': '1', 'checkpoint_ns': '', 'checkpoint_id': '1f0798cd-922d-6299-bfff-1900c9537b23'}}, tasks=(PregelTask(id='90f5c29a-bc06-4dc9-b2f0-59c64840f4b7', name='assistant', path=('__pregel_pull', 'assistant'), error=None, interrupts=(), state=None, result={'messages': [AIMessage(content='', additional_kwargs={'tool_calls': [{'id': 'dtg6dhsae', 'function': {'arguments': '{\"a\":2,\"b\":3}', 'name': 'multiply'}, 'type': 'function'}]}, response_metadata={'token_usage': {'completion_tokens': 73, 'prompt_tokens': 1097, 'total_tokens': 1170, 'completion_time': 0.067901188, 'prompt_time': 0.122769534, 'queue_time': 0.056620802, 'total_time': 0.190670722}, 'model_name': 'llama3-8b-8192', 'system_fingerprint': 'fp_5b339000ab', 'service_tier': 'on_demand', 'finish_reason': 'tool_calls', 'logprobs': None}, id='run--d80b0f22-f710-428d-abc6-213729953558-0', tool_calls=[{'name': 'multiply', 'args': {'a': 2, 'b': 3}, 'id': 'dtg6dhsae', 'type': 'tool_call'}], usage_metadata={'input_tokens': 1097, 'output_tokens': 73, 'total_tokens': 1170})]}),), interrupts=())\n",
            "\n",
            "--- State #5 ---\n",
            "StateSnapshot(values={'messages': []}, next=('__start__',), config={'configurable': {'thread_id': '1', 'checkpoint_ns': '', 'checkpoint_id': '1f0798cd-922d-6299-bfff-1900c9537b23'}}, metadata={'source': 'input', 'step': -1, 'parents': {}}, created_at='2025-08-15T04:03:49.380557+00:00', parent_config=None, tasks=(PregelTask(id='7e65e89e-ab85-4111-f578-ff90b0e3f8a8', name='__start__', path=('__pregel_pull', '__start__'), error=None, interrupts=(), state=None, result={'messages': HumanMessage(content='Multiply 2 and 3', additional_kwargs={}, response_metadata={}, id='e3669d5b-2548-42d6-b160-462bd5a910d1')}),), interrupts=())\n"
          ]
        }
      ]
    },
    {
      "cell_type": "code",
      "source": [
        "def print_chat_replay(all_states):\n",
        "    for i, state in enumerate(reversed(all_states), start=1):  # reverse to start from earliest\n",
        "        messages = state.values.get(\"messages\", [])\n",
        "        for msg in messages:\n",
        "            # Detect type of message\n",
        "            role = type(msg).__name__.replace(\"Message\", \"\")\n",
        "            if hasattr(msg, \"name\") and msg.name:  # ToolMessage case\n",
        "                role = f\"Tool:{msg.name}\"\n",
        "            print(f\"{role}: {msg.content}\")\n",
        "        print(\"-\" * 40)"
      ],
      "metadata": {
        "id": "YGsEZhD4RGMF"
      },
      "execution_count": null,
      "outputs": []
    },
    {
      "cell_type": "code",
      "source": [
        "print_chat_replay(all_states)"
      ],
      "metadata": {
        "colab": {
          "base_uri": "https://localhost:8080/"
        },
        "id": "MK-Zb1c9RIwb",
        "outputId": "88782e80-b126-493a-d4e9-b77de4d9b8d0"
      },
      "execution_count": null,
      "outputs": [
        {
          "output_type": "stream",
          "name": "stdout",
          "text": [
            "----------------------------------------\n",
            "Human: Multiply 2 and 3\n",
            "----------------------------------------\n",
            "Human: Multiply 2 and 3\n",
            "AI: \n",
            "----------------------------------------\n",
            "Human: Multiply 2 and 3\n",
            "AI: \n",
            "Tool:multiply: 6\n",
            "----------------------------------------\n",
            "Human: Multiply 2 and 3\n",
            "AI: \n",
            "Tool:multiply: 6\n",
            "AI: 6\n",
            "----------------------------------------\n"
          ]
        }
      ]
    },
    {
      "cell_type": "code",
      "source": [
        "to_replay=all_states[-2]"
      ],
      "metadata": {
        "id": "tTFL_wPenJEK"
      },
      "execution_count": null,
      "outputs": []
    },
    {
      "cell_type": "code",
      "source": [
        "to_replay"
      ],
      "metadata": {
        "colab": {
          "base_uri": "https://localhost:8080/"
        },
        "id": "Hr7_BUIqnVUZ",
        "outputId": "b9b7cf56-9cf9-48b9-c0b8-ab82adfeecc1"
      },
      "execution_count": null,
      "outputs": [
        {
          "output_type": "execute_result",
          "data": {
            "text/plain": [
              "StateSnapshot(values={'messages': [HumanMessage(content='Multiply 2 and 3', additional_kwargs={}, response_metadata={}, id='e3669d5b-2548-42d6-b160-462bd5a910d1')]}, next=('assistant',), config={'configurable': {'thread_id': '1', 'checkpoint_ns': '', 'checkpoint_id': '1f0798cd-922f-61e9-8000-324a6b8d1863'}}, metadata={'source': 'loop', 'step': 0, 'parents': {}}, created_at='2025-08-15T04:03:49.381358+00:00', parent_config={'configurable': {'thread_id': '1', 'checkpoint_ns': '', 'checkpoint_id': '1f0798cd-922d-6299-bfff-1900c9537b23'}}, tasks=(PregelTask(id='90f5c29a-bc06-4dc9-b2f0-59c64840f4b7', name='assistant', path=('__pregel_pull', 'assistant'), error=None, interrupts=(), state=None, result={'messages': [AIMessage(content='', additional_kwargs={'tool_calls': [{'id': 'dtg6dhsae', 'function': {'arguments': '{\"a\":2,\"b\":3}', 'name': 'multiply'}, 'type': 'function'}]}, response_metadata={'token_usage': {'completion_tokens': 73, 'prompt_tokens': 1097, 'total_tokens': 1170, 'completion_time': 0.067901188, 'prompt_time': 0.122769534, 'queue_time': 0.056620802, 'total_time': 0.190670722}, 'model_name': 'llama3-8b-8192', 'system_fingerprint': 'fp_5b339000ab', 'service_tier': 'on_demand', 'finish_reason': 'tool_calls', 'logprobs': None}, id='run--d80b0f22-f710-428d-abc6-213729953558-0', tool_calls=[{'name': 'multiply', 'args': {'a': 2, 'b': 3}, 'id': 'dtg6dhsae', 'type': 'tool_call'}], usage_metadata={'input_tokens': 1097, 'output_tokens': 73, 'total_tokens': 1170})]}),), interrupts=())"
            ]
          },
          "metadata": {},
          "execution_count": 118
        }
      ]
    },
    {
      "cell_type": "code",
      "source": [
        "to_replay.next"
      ],
      "metadata": {
        "colab": {
          "base_uri": "https://localhost:8080/"
        },
        "id": "dZjr7pWdnZtN",
        "outputId": "03e40d97-1b27-4554-a0d7-7f5481899a0a"
      },
      "execution_count": null,
      "outputs": [
        {
          "output_type": "execute_result",
          "data": {
            "text/plain": [
              "('assistant',)"
            ]
          },
          "metadata": {},
          "execution_count": 119
        }
      ]
    },
    {
      "cell_type": "code",
      "source": [
        "to_replay.config"
      ],
      "metadata": {
        "colab": {
          "base_uri": "https://localhost:8080/"
        },
        "id": "OUMluEu4ndmO",
        "outputId": "26093ef8-219d-4986-e8b4-6155be697351"
      },
      "execution_count": null,
      "outputs": [
        {
          "output_type": "execute_result",
          "data": {
            "text/plain": [
              "{'configurable': {'thread_id': '1',\n",
              "  'checkpoint_ns': '',\n",
              "  'checkpoint_id': '1f0798cd-922f-61e9-8000-324a6b8d1863'}}"
            ]
          },
          "metadata": {},
          "execution_count": 120
        }
      ]
    },
    {
      "cell_type": "code",
      "source": [
        "for event in graph.stream({\"messages\": [HumanMessage(content=\"Multiply 2 and 3\")]},to_replay.config,stream_mode=\"values\"):\n",
        "    event['messages'][-1].pretty_print()"
      ],
      "metadata": {
        "colab": {
          "base_uri": "https://localhost:8080/"
        },
        "id": "rLFpucqBm1sU",
        "outputId": "cfef0e38-5696-41f4-83d4-b3290bec69da"
      },
      "execution_count": null,
      "outputs": [
        {
          "output_type": "stream",
          "name": "stdout",
          "text": [
            "================================\u001b[1m Human Message \u001b[0m=================================\n",
            "\n",
            "Multiply 2 and 3\n",
            "==================================\u001b[1m Ai Message \u001b[0m==================================\n",
            "Tool Calls:\n",
            "  multiply (eeh2sdv7r)\n",
            " Call ID: eeh2sdv7r\n",
            "  Args:\n",
            "    a: 2\n",
            "    b: 3\n",
            "=================================\u001b[1m Tool Message \u001b[0m=================================\n",
            "Name: multiply\n",
            "\n",
            "6\n",
            "==================================\u001b[1m Ai Message \u001b[0m==================================\n",
            "\n",
            "6\n"
          ]
        }
      ]
    },
    {
      "cell_type": "code",
      "source": [
        "to_fork=all_states[-2]\n",
        "to_fork.values[\"messages\"]"
      ],
      "metadata": {
        "colab": {
          "base_uri": "https://localhost:8080/"
        },
        "id": "-0howCT4HPsM",
        "outputId": "98cccc30-5ee4-4001-f8de-9362047619ce"
      },
      "execution_count": null,
      "outputs": [
        {
          "output_type": "execute_result",
          "data": {
            "text/plain": [
              "[HumanMessage(content='Multiply 2 and 3', additional_kwargs={}, response_metadata={}, id='e3669d5b-2548-42d6-b160-462bd5a910d1')]"
            ]
          },
          "metadata": {},
          "execution_count": 122
        }
      ]
    },
    {
      "cell_type": "code",
      "source": [
        "to_fork.config"
      ],
      "metadata": {
        "colab": {
          "base_uri": "https://localhost:8080/"
        },
        "id": "OtCKtJov00-w",
        "outputId": "77cdb39e-1ba8-493f-f05f-5c46db106194"
      },
      "execution_count": null,
      "outputs": [
        {
          "output_type": "execute_result",
          "data": {
            "text/plain": [
              "{'configurable': {'thread_id': '1',\n",
              "  'checkpoint_ns': '',\n",
              "  'checkpoint_id': '1f0798cd-922f-61e9-8000-324a6b8d1863'}}"
            ]
          },
          "metadata": {},
          "execution_count": 123
        }
      ]
    },
    {
      "cell_type": "code",
      "source": [
        "fork_config=graph.update_state(\n",
        "    to_fork.config,\n",
        "    {\"messages\":[HumanMessage(content=\"Mutiply 3 and 5\",\n",
        "                              id=to_fork.values[\"messages\"][0].id\n",
        "    )]}\n",
        ")"
      ],
      "metadata": {
        "id": "qgs5vlFl0_WS"
      },
      "execution_count": null,
      "outputs": []
    },
    {
      "cell_type": "code",
      "source": [
        "fork_config"
      ],
      "metadata": {
        "colab": {
          "base_uri": "https://localhost:8080/"
        },
        "id": "AP3yYoZ51tuK",
        "outputId": "6a795416-c8de-4529-be94-0bf102d19cb2"
      },
      "execution_count": null,
      "outputs": [
        {
          "output_type": "execute_result",
          "data": {
            "text/plain": [
              "{'configurable': {'thread_id': '1',\n",
              "  'checkpoint_ns': '',\n",
              "  'checkpoint_id': '1f0798cd-a8df-6c0b-8001-849468da500f'}}"
            ]
          },
          "metadata": {},
          "execution_count": 125
        }
      ]
    },
    {
      "cell_type": "code",
      "source": [
        "all_states=[s for s in graph.get_state_history(thread)]\n",
        "len(all_states)"
      ],
      "metadata": {
        "colab": {
          "base_uri": "https://localhost:8080/"
        },
        "id": "rmcOwTVV2VU9",
        "outputId": "ff17c3a4-cc97-4381-e80c-bc8d3d33c57b"
      },
      "execution_count": null,
      "outputs": [
        {
          "output_type": "execute_result",
          "data": {
            "text/plain": [
              "11"
            ]
          },
          "metadata": {},
          "execution_count": 126
        }
      ]
    },
    {
      "cell_type": "code",
      "source": [
        "all_states[0]"
      ],
      "metadata": {
        "colab": {
          "base_uri": "https://localhost:8080/"
        },
        "id": "3bIUo1rB4Ofg",
        "outputId": "ca4400c1-ed27-4365-d033-43a18c7a911e"
      },
      "execution_count": null,
      "outputs": [
        {
          "output_type": "execute_result",
          "data": {
            "text/plain": [
              "StateSnapshot(values={'messages': [HumanMessage(content='Mutiply 3 and 5', additional_kwargs={}, response_metadata={}, id='e3669d5b-2548-42d6-b160-462bd5a910d1')]}, next=('assistant',), config={'configurable': {'thread_id': '1', 'checkpoint_ns': '', 'checkpoint_id': '1f0798cd-a8df-6c0b-8001-849468da500f'}}, metadata={'source': 'update', 'step': 1, 'parents': {}}, created_at='2025-08-15T04:03:51.760568+00:00', parent_config={'configurable': {'thread_id': '1', 'checkpoint_ns': '', 'checkpoint_id': '1f0798cd-922f-61e9-8000-324a6b8d1863'}}, tasks=(PregelTask(id='e7815330-6270-79f9-437b-69c309852bcb', name='assistant', path=('__pregel_pull', 'assistant'), error=None, interrupts=(), state=None, result=None),), interrupts=())"
            ]
          },
          "metadata": {},
          "execution_count": 127
        }
      ]
    },
    {
      "cell_type": "code",
      "source": [
        "for event in graph.stream(None,fork_config,stream_mode=\"values\"):\n",
        "    event['messages'][-1].pretty_print()"
      ],
      "metadata": {
        "colab": {
          "base_uri": "https://localhost:8080/"
        },
        "id": "ZTfEWkh84i25",
        "outputId": "c69b3229-9bf2-49f5-9201-0249254367c6"
      },
      "execution_count": null,
      "outputs": [
        {
          "output_type": "stream",
          "name": "stdout",
          "text": [
            "================================\u001b[1m Human Message \u001b[0m=================================\n",
            "\n",
            "Mutiply 3 and 5\n",
            "==================================\u001b[1m Ai Message \u001b[0m==================================\n",
            "Tool Calls:\n",
            "  multiply (fxqvgzf9w)\n",
            " Call ID: fxqvgzf9w\n",
            "  Args:\n",
            "    a: 3\n",
            "    b: 5\n",
            "=================================\u001b[1m Tool Message \u001b[0m=================================\n",
            "Name: multiply\n",
            "\n",
            "15\n",
            "==================================\u001b[1m Ai Message \u001b[0m==================================\n",
            "Tool Calls:\n",
            "  multiply (vm8fs14b2)\n",
            " Call ID: vm8fs14b2\n",
            "  Args:\n",
            "    a: 15\n",
            "    b: 5\n",
            "=================================\u001b[1m Tool Message \u001b[0m=================================\n",
            "Name: multiply\n",
            "\n",
            "75\n",
            "==================================\u001b[1m Ai Message \u001b[0m==================================\n",
            "\n",
            "The answer is 75.\n"
          ]
        }
      ]
    }
  ]
}