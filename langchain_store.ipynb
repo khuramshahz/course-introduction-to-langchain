{
  "nbformat": 4,
  "nbformat_minor": 0,
  "metadata": {
    "colab": {
      "provenance": []
    },
    "kernelspec": {
      "name": "python3",
      "display_name": "Python 3"
    },
    "language_info": {
      "name": "python"
    }
  },
  "cells": [
    {
      "cell_type": "code",
      "execution_count": null,
      "metadata": {
        "id": "m2U9fhoRLkos",
        "colab": {
          "base_uri": "https://localhost:8080/"
        },
        "outputId": "8505cce3-0c80-47b1-ebca-7c0999072a72"
      },
      "outputs": [
        {
          "output_type": "stream",
          "name": "stdout",
          "text": [
            "\u001b[2K     \u001b[90m━━━━━━━━━━━━━━━━━━━━━━━━━━━━━━━━━━━━━━━━\u001b[0m \u001b[32m43.7/43.7 kB\u001b[0m \u001b[31m3.0 MB/s\u001b[0m eta \u001b[36m0:00:00\u001b[0m\n",
            "\u001b[2K   \u001b[90m━━━━━━━━━━━━━━━━━━━━━━━━━━━━━━━━━━━━━━━━\u001b[0m \u001b[32m153.2/153.2 kB\u001b[0m \u001b[31m6.0 MB/s\u001b[0m eta \u001b[36m0:00:00\u001b[0m\n",
            "\u001b[2K   \u001b[90m━━━━━━━━━━━━━━━━━━━━━━━━━━━━━━━━━━━━━━━━\u001b[0m \u001b[32m50.6/50.6 kB\u001b[0m \u001b[31m1.7 MB/s\u001b[0m eta \u001b[36m0:00:00\u001b[0m\n",
            "\u001b[2K   \u001b[90m━━━━━━━━━━━━━━━━━━━━━━━━━━━━━━━━━━━━━━━━\u001b[0m \u001b[32m131.4/131.4 kB\u001b[0m \u001b[31m2.7 MB/s\u001b[0m eta \u001b[36m0:00:00\u001b[0m\n",
            "\u001b[2K   \u001b[90m━━━━━━━━━━━━━━━━━━━━━━━━━━━━━━━━━━━━━━━━\u001b[0m \u001b[32m43.9/43.9 kB\u001b[0m \u001b[31m3.1 MB/s\u001b[0m eta \u001b[36m0:00:00\u001b[0m\n",
            "\u001b[2K   \u001b[90m━━━━━━━━━━━━━━━━━━━━━━━━━━━━━━━━━━━━━━━━\u001b[0m \u001b[32m216.5/216.5 kB\u001b[0m \u001b[31m13.8 MB/s\u001b[0m eta \u001b[36m0:00:00\u001b[0m\n",
            "\u001b[?25h"
          ]
        }
      ],
      "source": [
        "%pip install --quiet -U langgraph langchain_groq langgraph_sdk langgraph-prebuilt"
      ]
    },
    {
      "cell_type": "code",
      "source": [
        "import os\n",
        "import sqlite3\n",
        "from google.colab import userdata\n",
        "\n",
        "api_key = userdata.get(\"groq_api_key\")\n",
        "os.environ[\"GROQ_API_KEY\"] = api_key\n",
        "os.environ[\"LANGCHAIN_TRACKING_V2\"]=\"true\"\n",
        "os.environ[\"LANGCHAIN_PROJECT\"]=\"langchain-academy\""
      ],
      "metadata": {
        "id": "rK8CZk-bMFn2"
      },
      "execution_count": null,
      "outputs": []
    },
    {
      "cell_type": "code",
      "source": [
        "from langchain_groq import ChatGroq\n",
        "llm = ChatGroq(\n",
        "    temperature=0.7,\n",
        "    model_name=\"llama3-8b-8192\",\n",
        "    verbose=True\n",
        ")"
      ],
      "metadata": {
        "id": "waRlOeLnMIe_"
      },
      "execution_count": null,
      "outputs": []
    },
    {
      "cell_type": "code",
      "source": [
        "import uuid\n",
        "from langgraph.store.memory import InMemoryStore\n",
        "\n",
        "in_memory_store = InMemoryStore()\n",
        "user_id=\"1\"\n",
        "namespace_for_memory=(user_id,\"memories\")\n",
        "key=str(uuid.uuid4())\n",
        "value={\"food_preference\":\"i like pizza\"}\n",
        "in_memory_store.put(namespace_for_memory,key, value)"
      ],
      "metadata": {
        "id": "hj1hn9JWOMMB"
      },
      "execution_count": null,
      "outputs": []
    },
    {
      "cell_type": "code",
      "source": [
        "memories=in_memory_store.search(namespace_for_memory)\n",
        "type(memories)"
      ],
      "metadata": {
        "colab": {
          "base_uri": "https://localhost:8080/"
        },
        "id": "3MCVoI0bOebq",
        "outputId": "bd1ff0f9-81fc-4c92-fac2-6181465bd50d"
      },
      "execution_count": null,
      "outputs": [
        {
          "output_type": "execute_result",
          "data": {
            "text/plain": [
              "list"
            ]
          },
          "metadata": {},
          "execution_count": 5
        }
      ]
    },
    {
      "cell_type": "code",
      "source": [
        "print(memories[0].key,memories[0].value)"
      ],
      "metadata": {
        "colab": {
          "base_uri": "https://localhost:8080/"
        },
        "id": "wqeSo20Ed5r6",
        "outputId": "5ad5b59b-62b6-4e4a-dce6-1ba26db78b6c"
      },
      "execution_count": null,
      "outputs": [
        {
          "output_type": "stream",
          "name": "stdout",
          "text": [
            "0712cfc5-1b4f-40e3-ac7a-dbb1acd04074 {'food_preference': 'i like pizza'}\n"
          ]
        }
      ]
    },
    {
      "cell_type": "code",
      "source": [
        "memory=in_memory_store.get(namespace_for_memory,key)\n",
        "memory.dict()"
      ],
      "metadata": {
        "colab": {
          "base_uri": "https://localhost:8080/"
        },
        "id": "VM6q2vUreFE1",
        "outputId": "0c3a17ec-31d7-4bbf-b48d-ff249da0ad8a"
      },
      "execution_count": null,
      "outputs": [
        {
          "output_type": "execute_result",
          "data": {
            "text/plain": [
              "{'namespace': ['1', 'memories'],\n",
              " 'key': '0712cfc5-1b4f-40e3-ac7a-dbb1acd04074',\n",
              " 'value': {'food_preference': 'i like pizza'},\n",
              " 'created_at': '2025-08-15T00:23:22.446647+00:00',\n",
              " 'updated_at': '2025-08-15T00:23:22.446655+00:00'}"
            ]
          },
          "metadata": {},
          "execution_count": 7
        }
      ]
    },
    {
      "cell_type": "code",
      "source": [
        "from IPython.display import Image, display\n",
        "\n",
        "from langgraph.checkpoint.memory import MemorySaver\n",
        "from langgraph.graph import StateGraph, MessagesState, START, END\n",
        "from langgraph.store.base import BaseStore\n",
        "\n",
        "from langchain_core.messages import HumanMessage, SystemMessage\n",
        "from langchain_core.runnables.config import RunnableConfig\n",
        "\n",
        "MODEL_SYSTEM_MESSAGE = \"\"\"You are a helpful assistant with memory that provides information about the user.\n",
        "If you have memory for this user, use it to personalize your responses.\n",
        "Here is the memory (it may be empty): {memory}\"\"\"\n",
        "CREATE_MEMORY_INSTRUCTION = \"\"\"\"You are collecting information about the user to personalize your responses.\n",
        "\n",
        "CURRENT USER INFORMATION:\n",
        "{memory}\n",
        "\n",
        "INSTRUCTIONS:\n",
        "1. Review the chat history below carefully\n",
        "2. Identify new information about the user, such as:\n",
        "   - Personal details (name, location)\n",
        "   - Preferences (likes, dislikes)\n",
        "   - Interests and hobbies\n",
        "   - Past experiences\n",
        "   - Goals or future plans\n",
        "3. Merge any new information with existing memory\n",
        "4. Format the memory as a clear, bulleted list\n",
        "5. If new information conflicts with existing memory, keep the most recent version\n",
        "\n",
        "Remember: Only include factual information directly stated by the user. Do not make assumptions or inferences.\n",
        "\n",
        "Based on the chat history below, please update the user information:\"\"\"\n",
        "\n",
        "def call_model(state: MessagesState, config: RunnableConfig, store: BaseStore):\n",
        "\n",
        "    \"\"\"Load memory from the store and use it to personalize the chatbot's response.\"\"\"\n",
        "\n",
        "    # Get the user ID from the config\n",
        "    user_id = config[\"configurable\"][\"user_id\"]\n",
        "\n",
        "    # Retrieve memory from the store\n",
        "    namespace = (\"memory\", user_id)\n",
        "    key = \"user_memory\"\n",
        "    existing_memory = store.get(namespace, key)\n",
        "\n",
        "    # Extract the actual memory content if it exists and add a prefix\n",
        "    if existing_memory:\n",
        "        # Value is a dictionary with a memory key\n",
        "        existing_memory_content = existing_memory.value.get('memory')\n",
        "    else:\n",
        "        existing_memory_content = \"No existing memory found.\"\n",
        "\n",
        "    # Format the memory in the system prompt\n",
        "    system_msg = MODEL_SYSTEM_MESSAGE.format(memory=existing_memory_content)\n",
        "\n",
        "    # Respond using memory as well as the chat history\n",
        "    response = llm.invoke([SystemMessage(content=system_msg)]+state[\"messages\"])\n",
        "\n",
        "    return {\"messages\": response}\n",
        "\n",
        "def write_memory(state: MessagesState, config: RunnableConfig, store: BaseStore):\n",
        "\n",
        "    \"\"\"Reflect on the chat history and save a memory to the store.\"\"\"\n",
        "\n",
        "    # Get the user ID from the config\n",
        "    user_id = config[\"configurable\"][\"user_id\"]\n",
        "\n",
        "    # Retrieve existing memory from the store\n",
        "    namespace = (\"memory\", user_id)\n",
        "    existing_memory = store.get(namespace, \"user_memory\")\n",
        "\n",
        "    # Extract the memory\n",
        "    if existing_memory:\n",
        "        existing_memory_content = existing_memory.value.get('memory')\n",
        "    else:\n",
        "        existing_memory_content = \"No existing memory found.\"\n",
        "\n",
        "    # Format the memory in the system prompt\n",
        "    system_msg = CREATE_MEMORY_INSTRUCTION.format(memory=existing_memory_content)\n",
        "    new_memory = llm.invoke([SystemMessage(content=system_msg)]+state['messages'])\n",
        "\n",
        "    # Overwrite the existing memory in the store\n",
        "    key = \"user_memory\"\n",
        "\n",
        "    # Write value as a dictionary with a memory key\n",
        "    store.put(namespace, key, {\"memory\": new_memory.content})\n",
        "\n",
        "# Define the graph\n",
        "builder = StateGraph(MessagesState)\n",
        "builder.add_node(\"call_model\", call_model)\n",
        "builder.add_node(\"write_memory\", write_memory)\n",
        "builder.add_edge(START, \"call_model\")\n",
        "builder.add_edge(\"call_model\", \"write_memory\")\n",
        "builder.add_edge(\"write_memory\", END)\n",
        "\n",
        "# Store for long-term (across-thread) memory\n",
        "across_thread_memory = InMemoryStore()\n",
        "\n",
        "# Checkpointer for short-term (within-thread) memory\n",
        "within_thread_memory = MemorySaver()\n",
        "graph = builder.compile(checkpointer=within_thread_memory, store=across_thread_memory)\n",
        "display(Image(graph.get_graph(xray=1).draw_mermaid_png()))"
      ],
      "metadata": {
        "colab": {
          "base_uri": "https://localhost:8080/"
        },
        "id": "j7MgeAGfeliH",
        "outputId": "a9eec4a7-8cfa-417c-9167-1c190459b72e"
      },
      "execution_count": null,
      "outputs": [
        {
          "output_type": "display_data",
          "data": {
            "image/png": "[encoded data removed]",
            "text/plain": [
              "<IPython.core.display.Image object>"
            ]
          },
          "metadata": {}
        }
      ]
    },
    {
      "cell_type": "code",
      "source": [
        "config={\"configurable\":{\"thread_id\":\"1\",\"user_id\":\"1\"}}\n",
        "input_messages=[HumanMessage(content=\"hi i am khuram\")]\n",
        "\n",
        "for chunk in graph.stream({\"messages\":input_messages},config,stream_mode=\"values\"):\n",
        "  chunk[\"messages\"][-1].pretty_print()"
      ],
      "metadata": {
        "colab": {
          "base_uri": "https://localhost:8080/"
        },
        "id": "A_NFG9ahfQp3",
        "outputId": "8da6bd93-dbe9-4dfa-9693-1178ac9191d8"
      },
      "execution_count": null,
      "outputs": [
        {
          "output_type": "stream",
          "name": "stdout",
          "text": [
            "================================\u001b[1m Human Message \u001b[0m=================================\n",
            "\n",
            "hi i am khuram\n",
            "==================================\u001b[1m Ai Message \u001b[0m==================================\n",
            "\n",
            "Nice to meet you, Khuram! I'm a helpful assistant, and I'm here to assist you with any questions or topics you'd like to discuss. Since I don't have any prior memory of you, this is a fresh start. How can I help you today?\n"
          ]
        }
      ]
    },
    {
      "cell_type": "code",
      "source": [
        "input_messages = [HumanMessage(content=\"I like to bike around San Francisco\")]\n",
        "for chunk in graph.stream({\"messages\": input_messages}, config, stream_mode=\"values\"):\n",
        "    chunk[\"messages\"][-1].pretty_print()"
      ],
      "metadata": {
        "colab": {
          "base_uri": "https://localhost:8080/"
        },
        "id": "GGLpr-K7ZfHX",
        "outputId": "ae265428-e9bf-46fb-8837-fc9c289aa3ec"
      },
      "execution_count": null,
      "outputs": [
        {
          "output_type": "stream",
          "name": "stdout",
          "text": [
            "================================\u001b[1m Human Message \u001b[0m=================================\n",
            "\n",
            "I like to bike around San Francisco\n",
            "==================================\u001b[1m Ai Message \u001b[0m==================================\n",
            "\n",
            "That's great, Khuram! San Francisco is a beautiful city with plenty of scenic bike routes to explore. Have you checked out the Golden Gate Park bike trail? It's a popular route that takes you through the park and offers stunning views of the city and the bay.\n",
            "\n",
            "Or maybe you're looking for a more challenging ride? The Presidio's Mountain Lake Trail is a great option, with its steep hills and scenic views of the Presidio forest.\n",
            "\n",
            "What kind of biking do you usually do, Khuram? Are you looking for a leisurely ride or something more adventurous?\n"
          ]
        }
      ]
    },
    {
      "cell_type": "code",
      "source": [
        "thread={\"configurable\":{\"thread_id\":\"1\"}}\n",
        "state=graph.get_state(thread).values\n",
        "for m in state[\"messages\"]:\n",
        "  m.pretty_print()"
      ],
      "metadata": {
        "colab": {
          "base_uri": "https://localhost:8080/"
        },
        "id": "KhQbUUfNZ_pV",
        "outputId": "fc592907-8ff0-4109-91ac-b316518cfcc5"
      },
      "execution_count": null,
      "outputs": [
        {
          "output_type": "stream",
          "name": "stdout",
          "text": [
            "================================\u001b[1m Human Message \u001b[0m=================================\n",
            "\n",
            "hi i am khuram\n",
            "==================================\u001b[1m Ai Message \u001b[0m==================================\n",
            "\n",
            "Nice to meet you, Khuram! I'm a helpful assistant, and I'm here to assist you with any questions or topics you'd like to discuss. Since I don't have any prior memory of you, this is a fresh start. How can I help you today?\n",
            "================================\u001b[1m Human Message \u001b[0m=================================\n",
            "\n",
            "I like to bike around San Francisco\n",
            "==================================\u001b[1m Ai Message \u001b[0m==================================\n",
            "\n",
            "That's great, Khuram! San Francisco is a beautiful city with plenty of scenic bike routes to explore. Have you checked out the Golden Gate Park bike trail? It's a popular route that takes you through the park and offers stunning views of the city and the bay.\n",
            "\n",
            "Or maybe you're looking for a more challenging ride? The Presidio's Mountain Lake Trail is a great option, with its steep hills and scenic views of the Presidio forest.\n",
            "\n",
            "What kind of biking do you usually do, Khuram? Are you looking for a leisurely ride or something more adventurous?\n"
          ]
        }
      ]
    },
    {
      "cell_type": "code",
      "source": [
        "user_id = \"1\"\n",
        "namespace = (\"memory\", user_id)\n",
        "existing_memory = across_thread_memory.get(namespace, \"user_memory\")\n",
        "existing_memory.dict()"
      ],
      "metadata": {
        "colab": {
          "base_uri": "https://localhost:8080/"
        },
        "id": "5DAAuj5PcAtK",
        "outputId": "398f46b3-6b49-480f-91dc-8700d3d062e6"
      },
      "execution_count": null,
      "outputs": [
        {
          "output_type": "execute_result",
          "data": {
            "text/plain": [
              "{'namespace': ['memory', '1'],\n",
              " 'key': 'user_memory',\n",
              " 'value': {'memory': ''},\n",
              " 'created_at': '2025-08-15T00:23:23.637333+00:00',\n",
              " 'updated_at': '2025-08-15T00:23:23.637339+00:00'}"
            ]
          },
          "metadata": {},
          "execution_count": 12
        }
      ]
    },
    {
      "cell_type": "code",
      "source": [
        "config = {\"configurable\": {\"thread_id\": \"2\", \"user_id\": \"1\"}}\n",
        "input_messages = [HumanMessage(content=\"Hi! Where would you recommend that I go biking?\")]\n",
        "for chunk in graph.stream({\"messages\": input_messages}, config, stream_mode=\"values\"):\n",
        "    chunk[\"messages\"][-1].pretty_print()"
      ],
      "metadata": {
        "colab": {
          "base_uri": "https://localhost:8080/"
        },
        "id": "UCrIHL6YdpVW",
        "outputId": "0611d5a6-73e9-4b76-88ed-ff08193ed109"
      },
      "execution_count": null,
      "outputs": [
        {
          "output_type": "stream",
          "name": "stdout",
          "text": [
            "================================\u001b[1m Human Message \u001b[0m=================================\n",
            "\n",
            "Hi! Where would you recommend that I go biking?\n",
            "==================================\u001b[1m Ai Message \u001b[0m==================================\n",
            "\n",
            "Hi again! So, I'm assuming you're a bike enthusiast, and I have some great suggestions for you! Last time we chatted, you mentioned you were looking for some scenic routes with minimal traffic. Am I right?\n",
            "\n",
            "If that's still the case, I'd recommend checking out the local parks or trails in your area. There's a beautiful trail system near your place that runs along the river, and it's super popular among cyclists. The scenery is stunning, and you'll get to enjoy the peaceful atmosphere while you ride.\n",
            "\n",
            "If you're looking for something a bit more adventurous, I've heard great things about the nearby mountains. There are some challenging routes that offer breathtaking views, and you might even spot some wildlife! Just make sure to check the road conditions and difficulty level before heading out.\n",
            "\n",
            "Which option sounds more appealing to you, or do you have something else in mind?\n"
          ]
        }
      ]
    },
    {
      "cell_type": "code",
      "source": [
        "input_messages = [HumanMessage(content=\"Great, are there any bakeries nearby that I can check out? I like a croissant after biking.\")]\n",
        "for chunk in graph.stream({\"messages\": input_messages}, config, stream_mode=\"values\"):\n",
        "    chunk[\"messages\"][-1].pretty_print()"
      ],
      "metadata": {
        "colab": {
          "base_uri": "https://localhost:8080/"
        },
        "id": "qpbWsVbId3Rt",
        "outputId": "ec353d84-0fcb-4a03-8875-c0c0af60594a"
      },
      "execution_count": null,
      "outputs": [
        {
          "output_type": "stream",
          "name": "stdout",
          "text": [
            "================================\u001b[1m Human Message \u001b[0m=================================\n",
            "\n",
            "Great, are there any bakeries nearby that I can check out? I like a croissant after biking.\n",
            "==================================\u001b[1m Ai Message \u001b[0m==================================\n",
            "\n",
            "Baking and biking, a perfect combination! I've got some great news for you! You're in luck because there are several excellent bakeries near your biking spots. Let me see if I can recall the ones you mentioned earlier...\n",
            "\n",
            "Ah yes! You mentioned the bakery near the river trail. It's a local favorite, and they're famous for their flaky, buttery croissants. They're freshly baked every morning, and the aroma alone is worth the visit. You can grab a few to go and enjoy them on your ride or back at your place.\n",
            "\n",
            "If you're heading to the mountains, there's a charming bakery in the town at the base of the range. They offer a wide variety of pastries, including croissants, and their coffee is always a hit. Plus, the views from their outdoor seating area are simply stunning.\n",
            "\n",
            "If neither of those options appeal to you, I can suggest a few more bakeries in the area. Would you like me to give you a rundown of the top-rated ones?\n"
          ]
        }
      ]
    }
  ]
}